{
 "cells": [
  {
   "cell_type": "code",
   "execution_count": 39,
   "id": "b944f80b-7231-4a25-adfa-1b87f51ddf58",
   "metadata": {},
   "outputs": [],
   "source": [
    "import re"
   ]
  },
  {
   "cell_type": "code",
   "execution_count": 55,
   "id": "3e50ba3e-65c6-438d-ac9f-1d614cf8e25d",
   "metadata": {},
   "outputs": [],
   "source": [
    "chat1 = \"me: My contacts: 1237836484,8787667368, abc@xyz.com\"\n",
    "chat2 = \"me: My phonenumber: (123)-783-6484, email:ab_c@xyz.com\"\n",
    "chat3 = \"me: My phone_number: 3217547484 email:abc82@gmail.com\""
   ]
  },
  {
   "cell_type": "markdown",
   "id": "d0923981-72c6-45c6-9da4-f9bcd496f9bc",
   "metadata": {},
   "source": [
    "# Finding Mathes using regrex"
   ]
  },
  {
   "cell_type": "markdown",
   "id": "0d4e8b36-9e5e-4a7a-88f9-211c6828c24d",
   "metadata": {},
   "source": [
    "# Phone number matching:"
   ]
  },
  {
   "cell_type": "code",
   "execution_count": 56,
   "id": "ae1e7e70-a235-4a37-90d6-122f48ed822f",
   "metadata": {},
   "outputs": [
    {
     "name": "stderr",
     "output_type": "stream",
     "text": [
      "<>:1: SyntaxWarning: invalid escape sequence '\\d'\n",
      "<>:1: SyntaxWarning: invalid escape sequence '\\d'\n",
      "C:\\Users\\santo\\AppData\\Local\\Temp\\ipykernel_17548\\505683507.py:1: SyntaxWarning: invalid escape sequence '\\d'\n",
      "  ph_pattern = '\\d{10}|\\(\\d{3}\\)-\\d{3}-\\d{4}' # | is used to add OR condition\n"
     ]
    }
   ],
   "source": [
    "ph_pattern = '\\d{10}|\\(\\d{3}\\)-\\d{3}-\\d{4}' # | is used to add OR condition"
   ]
  },
  {
   "cell_type": "code",
   "execution_count": 57,
   "id": "b4733a53-c3f7-4f8c-a044-0f2616bce2ec",
   "metadata": {},
   "outputs": [
    {
     "data": {
      "text/plain": [
       "['1237836484', '8787667368']"
      ]
     },
     "execution_count": 57,
     "metadata": {},
     "output_type": "execute_result"
    }
   ],
   "source": [
    "ph_matches = re.findall(ph_pattern,chat1)\n",
    "ph_matches"
   ]
  },
  {
   "cell_type": "code",
   "execution_count": 58,
   "id": "612d76f1-bfd7-48ed-9063-f3a0a5b429f2",
   "metadata": {},
   "outputs": [
    {
     "data": {
      "text/plain": [
       "['(123)-783-6484']"
      ]
     },
     "execution_count": 58,
     "metadata": {},
     "output_type": "execute_result"
    }
   ],
   "source": [
    "ph_matches = re.findall(ph_pattern,chat2)\n",
    "ph_matches"
   ]
  },
  {
   "cell_type": "code",
   "execution_count": 59,
   "id": "ea70eaf0-9ace-4dc2-9b90-7e885a642185",
   "metadata": {},
   "outputs": [
    {
     "data": {
      "text/plain": [
       "['3217547484']"
      ]
     },
     "execution_count": 59,
     "metadata": {},
     "output_type": "execute_result"
    }
   ],
   "source": [
    "ph_matches = re.findall(ph_pattern,chat3)\n",
    "ph_matches"
   ]
  },
  {
   "cell_type": "code",
   "execution_count": null,
   "id": "6582ec7c-b0f2-4870-9e28-747a3b4121ae",
   "metadata": {},
   "outputs": [],
   "source": []
  },
  {
   "cell_type": "markdown",
   "id": "e915dce1-e440-4d26-ab93-71f03ef7bbe2",
   "metadata": {},
   "source": [
    "# Email Matching"
   ]
  },
  {
   "cell_type": "code",
   "execution_count": 64,
   "id": "c5e6930e-17d9-40b6-8660-d21bd8ad4d07",
   "metadata": {},
   "outputs": [
    {
     "name": "stderr",
     "output_type": "stream",
     "text": [
      "<>:1: SyntaxWarning: invalid escape sequence '\\.'\n",
      "<>:1: SyntaxWarning: invalid escape sequence '\\.'\n",
      "C:\\Users\\santo\\AppData\\Local\\Temp\\ipykernel_17548\\3809167723.py:1: SyntaxWarning: invalid escape sequence '\\.'\n",
      "  em_pattern = '[a-z0-9A-z]*@[a-z0-9A-Z]*\\.[a-zA-Z]*'\n"
     ]
    }
   ],
   "source": [
    "em_pattern = '[a-z0-9A-z]*@[a-z0-9A-Z]*\\.[a-zA-Z]*'"
   ]
  },
  {
   "cell_type": "code",
   "execution_count": 65,
   "id": "28507556-c0ae-446f-8765-3bb01078f3e6",
   "metadata": {},
   "outputs": [
    {
     "data": {
      "text/plain": [
       "['abc@xyz.com']"
      ]
     },
     "execution_count": 65,
     "metadata": {},
     "output_type": "execute_result"
    }
   ],
   "source": [
    "em_matches = re.findall(em_pattern,chat1)\n",
    "em_matches"
   ]
  },
  {
   "cell_type": "code",
   "execution_count": 66,
   "id": "0af003c4-5513-471f-8f29-a9db6cc2d7aa",
   "metadata": {},
   "outputs": [
    {
     "data": {
      "text/plain": [
       "['ab_c@xyz.com']"
      ]
     },
     "execution_count": 66,
     "metadata": {},
     "output_type": "execute_result"
    }
   ],
   "source": [
    "em_matches = re.findall(em_pattern,chat2)\n",
    "em_matches"
   ]
  },
  {
   "cell_type": "code",
   "execution_count": 67,
   "id": "3a2b6b74-de6d-4588-adcc-2f796f3805ff",
   "metadata": {},
   "outputs": [
    {
     "data": {
      "text/plain": [
       "['abc82@gmail.com']"
      ]
     },
     "execution_count": 67,
     "metadata": {},
     "output_type": "execute_result"
    }
   ],
   "source": [
    "em_matches = re.findall(em_pattern,chat3)\n",
    "em_matches"
   ]
  },
  {
   "cell_type": "code",
   "execution_count": null,
   "id": "c97f729f-e34c-4158-bf82-e25b98e3f5d3",
   "metadata": {},
   "outputs": [],
   "source": []
  },
  {
   "cell_type": "markdown",
   "id": "9e626ec7-45df-4d37-b486-0e2c2e61832c",
   "metadata": {},
   "source": [
    "# Matching particular number , eg.OrderNumber"
   ]
  },
  {
   "cell_type": "code",
   "execution_count": 70,
   "id": "079b6d9c-47fb-4445-b80a-fbb9bbe2751e",
   "metadata": {},
   "outputs": [],
   "source": [
    "chat4 = \"me: Hello i have an issue with the order#432156\"\n",
    "chat5 = \"me: Hello i did not recieve my order with order number:432156\"\n",
    "chat6 = \"me: Hello where is my order.432156\""
   ]
  },
  {
   "cell_type": "code",
   "execution_count": 86,
   "id": "759e6b71-a2b1-4a92-a60f-8f6ca3ed2adc",
   "metadata": {},
   "outputs": [
    {
     "name": "stderr",
     "output_type": "stream",
     "text": [
      "<>:1: SyntaxWarning: invalid escape sequence '\\d'\n",
      "<>:1: SyntaxWarning: invalid escape sequence '\\d'\n",
      "C:\\Users\\santo\\AppData\\Local\\Temp\\ipykernel_17548\\3094809451.py:1: SyntaxWarning: invalid escape sequence '\\d'\n",
      "  ord_num_pattern = 'order[^\\d]*(\\d*)' #()is used to group the number seperate\n"
     ]
    }
   ],
   "source": [
    "ord_num_pattern = 'order[^\\d]*(\\d*)' #()is used to group the number seperate"
   ]
  },
  {
   "cell_type": "code",
   "execution_count": 87,
   "id": "eec70cbc-b0bc-48ac-96d3-5412b3fb7cb3",
   "metadata": {},
   "outputs": [
    {
     "data": {
      "text/plain": [
       "['432156']"
      ]
     },
     "execution_count": 87,
     "metadata": {},
     "output_type": "execute_result"
    }
   ],
   "source": [
    "ord_num_matches = re.findall(ord_num_pattern,chat4)\n",
    "ord_num_matches"
   ]
  },
  {
   "cell_type": "code",
   "execution_count": 88,
   "id": "2dbad865-5572-4a2f-ac14-22235adff0a4",
   "metadata": {},
   "outputs": [
    {
     "data": {
      "text/plain": [
       "['432156']"
      ]
     },
     "execution_count": 88,
     "metadata": {},
     "output_type": "execute_result"
    }
   ],
   "source": [
    "ord_num_matches = re.findall(ord_num_pattern,chat5)\n",
    "ord_num_matches"
   ]
  },
  {
   "cell_type": "code",
   "execution_count": 89,
   "id": "ff9b5de3-1924-4159-9ef1-20f83f1dfeda",
   "metadata": {},
   "outputs": [
    {
     "data": {
      "text/plain": [
       "['432156']"
      ]
     },
     "execution_count": 89,
     "metadata": {},
     "output_type": "execute_result"
    }
   ],
   "source": [
    "ord_num_matches = re.findall(ord_num_pattern,chat6)\n",
    "ord_num_matches"
   ]
  },
  {
   "cell_type": "code",
   "execution_count": null,
   "id": "79bf8737-1d67-4529-97e4-1d40eea19b74",
   "metadata": {},
   "outputs": [],
   "source": []
  }
 ],
 "metadata": {
  "kernelspec": {
   "display_name": "Python 3 (ipykernel)",
   "language": "python",
   "name": "python3"
  },
  "language_info": {
   "codemirror_mode": {
    "name": "ipython",
    "version": 3
   },
   "file_extension": ".py",
   "mimetype": "text/x-python",
   "name": "python",
   "nbconvert_exporter": "python",
   "pygments_lexer": "ipython3",
   "version": "3.12.4"
  }
 },
 "nbformat": 4,
 "nbformat_minor": 5
}
