{
 "cells": [
  {
   "cell_type": "code",
   "execution_count": 1,
   "id": "b944f80b-7231-4a25-adfa-1b87f51ddf58",
   "metadata": {},
   "outputs": [],
   "source": [
    "import re"
   ]
  },
  {
   "cell_type": "code",
   "execution_count": 19,
   "id": "3e50ba3e-65c6-438d-ac9f-1d614cf8e25d",
   "metadata": {},
   "outputs": [],
   "source": [
    "chat1 = \"me: My contacts: 1237836484,8787667368, abc@xyz.com\"\n",
    "chat2 = \"me: My phonenumber: (123)-783-6484, email:abc@xyz.com\"\n",
    "chat3 = \"me: My phone_number: 3217547484 email:abc82@xyz.com\""
   ]
  },
  {
   "cell_type": "markdown",
   "id": "d0923981-72c6-45c6-9da4-f9bcd496f9bc",
   "metadata": {},
   "source": [
    "# Finding Mathes using regrex"
   ]
  },
  {
   "cell_type": "markdown",
   "id": "0d4e8b36-9e5e-4a7a-88f9-211c6828c24d",
   "metadata": {},
   "source": [
    "# Phone number matching:"
   ]
  },
  {
   "cell_type": "code",
   "execution_count": 27,
   "id": "ae1e7e70-a235-4a37-90d6-122f48ed822f",
   "metadata": {},
   "outputs": [
    {
     "name": "stderr",
     "output_type": "stream",
     "text": [
      "<>:1: SyntaxWarning: invalid escape sequence '\\d'\n",
      "<>:1: SyntaxWarning: invalid escape sequence '\\d'\n",
      "C:\\Users\\santo\\AppData\\Local\\Temp\\ipykernel_17548\\144315955.py:1: SyntaxWarning: invalid escape sequence '\\d'\n",
      "  pattern = '\\d{10}|\\(\\d{3}\\)-\\d{3}-\\d{4}'\n"
     ]
    },
    {
     "data": {
      "text/plain": [
       "['1237836484', '8787667368']"
      ]
     },
     "execution_count": 27,
     "metadata": {},
     "output_type": "execute_result"
    }
   ],
   "source": [
    "pattern = '\\d{10}|\\(\\d{3}\\)-\\d{3}-\\d{4}' \n",
    "ph_matches = re.findall(pattern,chat1)\n",
    "ph_matches"
   ]
  },
  {
   "cell_type": "code",
   "execution_count": 28,
   "id": "612d76f1-bfd7-48ed-9063-f3a0a5b429f2",
   "metadata": {},
   "outputs": [
    {
     "data": {
      "text/plain": [
       "['(123)-783-6484']"
      ]
     },
     "execution_count": 28,
     "metadata": {},
     "output_type": "execute_result"
    }
   ],
   "source": [
    "ph_matches = re.findall(pattern,chat2)\n",
    "ph_matches"
   ]
  },
  {
   "cell_type": "code",
   "execution_count": 29,
   "id": "ea70eaf0-9ace-4dc2-9b90-7e885a642185",
   "metadata": {},
   "outputs": [
    {
     "data": {
      "text/plain": [
       "['3217547484']"
      ]
     },
     "execution_count": 29,
     "metadata": {},
     "output_type": "execute_result"
    }
   ],
   "source": [
    "ph_matches = re.findall(pattern,chat3)\n",
    "ph_matches"
   ]
  },
  {
   "cell_type": "code",
   "execution_count": null,
   "id": "6582ec7c-b0f2-4870-9e28-747a3b4121ae",
   "metadata": {},
   "outputs": [],
   "source": []
  }
 ],
 "metadata": {
  "kernelspec": {
   "display_name": "Python 3 (ipykernel)",
   "language": "python",
   "name": "python3"
  },
  "language_info": {
   "codemirror_mode": {
    "name": "ipython",
    "version": 3
   },
   "file_extension": ".py",
   "mimetype": "text/x-python",
   "name": "python",
   "nbconvert_exporter": "python",
   "pygments_lexer": "ipython3",
   "version": "3.12.4"
  }
 },
 "nbformat": 4,
 "nbformat_minor": 5
}
