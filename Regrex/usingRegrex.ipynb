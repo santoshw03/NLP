{
 "cells": [
  {
   "cell_type": "code",
   "execution_count": 1,
   "id": "b944f80b-7231-4a25-adfa-1b87f51ddf58",
   "metadata": {},
   "outputs": [],
   "source": [
    "import re"
   ]
  },
  {
   "cell_type": "code",
   "execution_count": 14,
   "id": "3e50ba3e-65c6-438d-ac9f-1d614cf8e25d",
   "metadata": {},
   "outputs": [],
   "source": [
    "chat1 = \"me: My contacts: 1237836484, abc@xyz.com\"\n",
    "chat2 = \"me: My phonenumber: (123)-783-6484, email:abc@xyz.com\"\n",
    "chat3 = \"me: My phone_number: 3217547484 email:abc82@xyz.com\""
   ]
  },
  {
   "cell_type": "markdown",
   "id": "d0923981-72c6-45c6-9da4-f9bcd496f9bc",
   "metadata": {},
   "source": [
    "# Finding Mathes using regrex"
   ]
  },
  {
   "cell_type": "markdown",
   "id": "0d4e8b36-9e5e-4a7a-88f9-211c6828c24d",
   "metadata": {},
   "source": [
    "# Phone number matching:"
   ]
  },
  {
   "cell_type": "code",
   "execution_count": 15,
   "id": "ae1e7e70-a235-4a37-90d6-122f48ed822f",
   "metadata": {},
   "outputs": [
    {
     "name": "stderr",
     "output_type": "stream",
     "text": [
      "<>:1: SyntaxWarning: invalid escape sequence '\\d'\n",
      "<>:1: SyntaxWarning: invalid escape sequence '\\d'\n",
      "C:\\Users\\santo\\AppData\\Local\\Temp\\ipykernel_17548\\2688606019.py:1: SyntaxWarning: invalid escape sequence '\\d'\n",
      "  pattern = '\\d{10}'\n"
     ]
    },
    {
     "data": {
      "text/plain": [
       "['1237836484']"
      ]
     },
     "execution_count": 15,
     "metadata": {},
     "output_type": "execute_result"
    }
   ],
   "source": [
    "pattern = '\\d{10}'\n",
    "matches = re.findall(pattern,chat1)\n",
    "matches"
   ]
  },
  {
   "cell_type": "code",
   "execution_count": 16,
   "id": "612d76f1-bfd7-48ed-9063-f3a0a5b429f2",
   "metadata": {},
   "outputs": [
    {
     "data": {
      "text/plain": [
       "['3217547484']"
      ]
     },
     "execution_count": 16,
     "metadata": {},
     "output_type": "execute_result"
    }
   ],
   "source": [
    "matches = re.findall(pattern,chat3)\n",
    "matches"
   ]
  },
  {
   "cell_type": "code",
   "execution_count": null,
   "id": "ea70eaf0-9ace-4dc2-9b90-7e885a642185",
   "metadata": {},
   "outputs": [],
   "source": []
  }
 ],
 "metadata": {
  "kernelspec": {
   "display_name": "Python 3 (ipykernel)",
   "language": "python",
   "name": "python3"
  },
  "language_info": {
   "codemirror_mode": {
    "name": "ipython",
    "version": 3
   },
   "file_extension": ".py",
   "mimetype": "text/x-python",
   "name": "python",
   "nbconvert_exporter": "python",
   "pygments_lexer": "ipython3",
   "version": "3.12.4"
  }
 },
 "nbformat": 4,
 "nbformat_minor": 5
}
