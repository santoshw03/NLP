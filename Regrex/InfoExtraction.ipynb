{
 "cells": [
  {
   "cell_type": "code",
   "execution_count": 1,
   "id": "0955a150-7bb1-44d1-80c5-7732783b0152",
   "metadata": {},
   "outputs": [],
   "source": [
    "import re"
   ]
  },
  {
   "cell_type": "code",
   "execution_count": 2,
   "id": "90dd013d-089b-442e-96bb-883d9460dfdd",
   "metadata": {},
   "outputs": [],
   "source": [
    "text = '''\n",
    "Born\tShahrukh Khan\n",
    "2 November 1965 (age 58)\n",
    "New Delhi, India\n",
    "Alma mater\tHansraj College (BA)\n",
    "Occupations\t\n",
    "Actorfilm producertelevision personalitybusinessman\n",
    "Years active\t1988–present\n",
    "Organisation\tRed Chillies Entertainment\n",
    "Works\tFull list\n",
    "Spouse\tGauri Khan ​(m. 1991)​\n",
    "Children\t3, including Aryan and Suhana\n",
    "Awards\tFull list\n",
    "Honours\tPadma Shri (2005)\n",
    "Order of Arts and Letters (2007)\n",
    "Legion of Honour (2014)\n",
    "'''"
   ]
  },
  {
   "cell_type": "code",
   "execution_count": 3,
   "id": "28e807bd-b353-43d9-ba05-ac6b0683547a",
   "metadata": {},
   "outputs": [
    {
     "name": "stderr",
     "output_type": "stream",
     "text": [
      "<>:1: SyntaxWarning: invalid escape sequence '\\d'\n",
      "<>:1: SyntaxWarning: invalid escape sequence '\\d'\n",
      "C:\\Users\\santo\\AppData\\Local\\Temp\\ipykernel_12972\\3815114650.py:1: SyntaxWarning: invalid escape sequence '\\d'\n",
      "  pattern_age = 'age (\\d+)'\n"
     ]
    }
   ],
   "source": [
    "pattern_age = 'age (\\d+)'"
   ]
  },
  {
   "cell_type": "code",
   "execution_count": 4,
   "id": "bafb3fe9-e719-4627-a0b2-413d4a8e89ad",
   "metadata": {},
   "outputs": [
    {
     "data": {
      "text/plain": [
       "['58']"
      ]
     },
     "execution_count": 4,
     "metadata": {},
     "output_type": "execute_result"
    }
   ],
   "source": [
    "age = re.findall(pattern_age,text)\n",
    "age"
   ]
  },
  {
   "cell_type": "code",
   "execution_count": 9,
   "id": "f3abaff2-5995-4420-9a95-5fa73e0a61f7",
   "metadata": {},
   "outputs": [],
   "source": [
    "pattern_name = 'Born(.*)\\n'"
   ]
  },
  {
   "cell_type": "code",
   "execution_count": 10,
   "id": "226559ae-4f1f-493a-9f5d-d4d3ff51ce41",
   "metadata": {},
   "outputs": [
    {
     "data": {
      "text/plain": [
       "'Shahrukh Khan'"
      ]
     },
     "execution_count": 10,
     "metadata": {},
     "output_type": "execute_result"
    }
   ],
   "source": [
    "name = re.findall(pattern_name,text)\n",
    "name[0].strip()"
   ]
  },
  {
   "cell_type": "code",
   "execution_count": 11,
   "id": "09bc891e-8644-4ae5-9328-37c7c9be85fe",
   "metadata": {},
   "outputs": [
    {
     "name": "stderr",
     "output_type": "stream",
     "text": [
      "<>:1: SyntaxWarning: invalid escape sequence '\\('\n",
      "<>:1: SyntaxWarning: invalid escape sequence '\\('\n",
      "C:\\Users\\santo\\AppData\\Local\\Temp\\ipykernel_12972\\665825115.py:1: SyntaxWarning: invalid escape sequence '\\('\n",
      "  pattern_dob = 'Born.*\\n(.*)\\('\n"
     ]
    }
   ],
   "source": [
    "pattern_dob = 'Born.*\\n(.*)\\('"
   ]
  },
  {
   "cell_type": "code",
   "execution_count": 12,
   "id": "4c22484e-1260-4468-9d1d-62965ede75de",
   "metadata": {},
   "outputs": [
    {
     "data": {
      "text/plain": [
       "['2 November 1965 ']"
      ]
     },
     "execution_count": 12,
     "metadata": {},
     "output_type": "execute_result"
    }
   ],
   "source": [
    "dob = re.findall(pattern_dob,text)\n",
    "dob"
   ]
  },
  {
   "cell_type": "code",
   "execution_count": 15,
   "id": "79c6ccf5-e91c-4bb4-9d26-132a56e9aa06",
   "metadata": {},
   "outputs": [],
   "source": [
    "pattern_pob = 'age.*\\n(.*)'"
   ]
  },
  {
   "cell_type": "code",
   "execution_count": 16,
   "id": "b82433b9-9ef2-4338-835d-d8e0e5b3beaa",
   "metadata": {},
   "outputs": [
    {
     "data": {
      "text/plain": [
       "['New Delhi, India']"
      ]
     },
     "execution_count": 16,
     "metadata": {},
     "output_type": "execute_result"
    }
   ],
   "source": [
    "pob = re.findall(pattern_pob,text)\n",
    "pob"
   ]
  },
  {
   "cell_type": "code",
   "execution_count": 20,
   "id": "f7e06164-4acf-424f-95c3-1e9d62d4222d",
   "metadata": {},
   "outputs": [],
   "source": [
    "def get_pattern_match(pattern,text):\n",
    "    matches = re.findall(pattern,text)\n",
    "    if matches:\n",
    "        return matches[0].strip()"
   ]
  },
  {
   "cell_type": "code",
   "execution_count": 25,
   "id": "2d73b17b-e91a-4d02-8b50-9883578fd1e2",
   "metadata": {},
   "outputs": [],
   "source": [
    "def get_info(text):\n",
    "    name = get_pattern_match(pattern_name,text)\n",
    "    age = get_pattern_match(pattern_age,text)\n",
    "    dob = get_pattern_match(pattern_dob,text)\n",
    "    pob = get_pattern_match(pattern_pob,text)\n",
    "\n",
    "    return{\n",
    "        'name':name,\n",
    "        'age':int(age),\n",
    "        'date of birth':dob,\n",
    "        'place of birth':pob\n",
    "    }"
   ]
  },
  {
   "cell_type": "code",
   "execution_count": 26,
   "id": "e580cf30-5ecd-41a0-a756-65946a9b83c9",
   "metadata": {},
   "outputs": [
    {
     "data": {
      "text/plain": [
       "{'name': 'Shahrukh Khan',\n",
       " 'age': 58,\n",
       " 'date of birth': '2 November 1965',\n",
       " 'place of birth': 'New Delhi, India'}"
      ]
     },
     "execution_count": 26,
     "metadata": {},
     "output_type": "execute_result"
    }
   ],
   "source": [
    "get_info(text)"
   ]
  },
  {
   "cell_type": "code",
   "execution_count": 27,
   "id": "9f735f5a-530c-43db-9697-ed14c31a78fc",
   "metadata": {},
   "outputs": [],
   "source": [
    "text2 = '''\n",
    "Born\tElon Reeve Musk\n",
    "June 28, 1971 (age 53)\n",
    "Pretoria, Transvaal, South Africa\n",
    "Citizenship\t\n",
    "South Africa\n",
    "Canada\n",
    "United States\n",
    "Education\tUniversity of Pennsylvania (BA, BS)\n",
    "Title\t\n",
    "Founder, CEO, and chief engineer of SpaceX\n",
    "CEO and product architect of Tesla, Inc.\n",
    "Owner, CTO and Executive Chairman of X (formerly Twitter)\n",
    "President of the Musk Foundation\n",
    "Founder of The Boring Company, X Corp., and xAI\n",
    "Co-founder of Neuralink, OpenAI, Zip2, and X.com (part of PayPal)\n",
    "Spouses\t\n",
    "Justine Wilson\n",
    "​\n",
    "​(m. 2000; div. 2008)​\n",
    "Talulah Riley\n",
    "​\n",
    "​(m. 2010; div. 2012)​\n",
    "​\n",
    "​(m. 2013; div. 2016)​\n",
    "Partners\t\n",
    "Grimes (2018–2021)[1]\n",
    "Children\t12[a][3]\n",
    "Parents\t\n",
    "Errol Musk\n",
    "Maye Musk\n",
    "Relatives\t\n",
    "Kimbal Musk (brother)\n",
    "Tosca Musk (sister)\n",
    "Lyndon Rive (cousin)\n",
    "'''"
   ]
  },
  {
   "cell_type": "code",
   "execution_count": 28,
   "id": "0f575e16-c6c4-4ea1-84d8-407cf1db83bd",
   "metadata": {},
   "outputs": [
    {
     "data": {
      "text/plain": [
       "{'name': 'Elon Reeve Musk',\n",
       " 'age': 53,\n",
       " 'date of birth': 'June 28, 1971',\n",
       " 'place of birth': 'Pretoria, Transvaal, South Africa'}"
      ]
     },
     "execution_count": 28,
     "metadata": {},
     "output_type": "execute_result"
    }
   ],
   "source": [
    "get_info(text2)"
   ]
  },
  {
   "cell_type": "code",
   "execution_count": 29,
   "id": "d6c19cdb-2a8c-415f-94f3-1a8be1759c9c",
   "metadata": {},
   "outputs": [],
   "source": [
    "text3='''\n",
    "Born\tMukesh Dhirubhai Ambani\n",
    "19 April 1957 (age 67)\n",
    "Aden, Colony of Aden\n",
    "(present-day Yemen)[1][2]\n",
    "Nationality\tIndian\n",
    "Alma mater\t\n",
    "St. Xavier's College, Mumbai\n",
    "Institute of Chemical Technology (B.E.)\n",
    "Occupation(s)\tChairman and MD, Reliance Industries\n",
    "Spouse\tNita Ambani ​(m. 1985)​[3]\n",
    "Children\t3\n",
    "Parents\t\n",
    "Dhirubhai Ambani (father)\n",
    "Kokilaben Ambani (mother)\n",
    "Relatives\tAnil Ambani (brother)\n",
    "Tina Ambani (sister-in-law)\n",
    "'''"
   ]
  },
  {
   "cell_type": "code",
   "execution_count": 30,
   "id": "a383b19d-a1ae-49d5-9124-856ed12ccdfa",
   "metadata": {},
   "outputs": [
    {
     "data": {
      "text/plain": [
       "{'name': 'Mukesh Dhirubhai Ambani',\n",
       " 'age': 67,\n",
       " 'date of birth': '19 April 1957',\n",
       " 'place of birth': 'Aden, Colony of Aden'}"
      ]
     },
     "execution_count": 30,
     "metadata": {},
     "output_type": "execute_result"
    }
   ],
   "source": [
    "get_info(text3)"
   ]
  },
  {
   "cell_type": "code",
   "execution_count": null,
   "id": "71ea4ad9-0b6c-4345-98dc-44eec8d83a89",
   "metadata": {},
   "outputs": [],
   "source": []
  }
 ],
 "metadata": {
  "kernelspec": {
   "display_name": "Python 3 (ipykernel)",
   "language": "python",
   "name": "python3"
  },
  "language_info": {
   "codemirror_mode": {
    "name": "ipython",
    "version": 3
   },
   "file_extension": ".py",
   "mimetype": "text/x-python",
   "name": "python",
   "nbconvert_exporter": "python",
   "pygments_lexer": "ipython3",
   "version": "3.12.4"
  }
 },
 "nbformat": 4,
 "nbformat_minor": 5
}
