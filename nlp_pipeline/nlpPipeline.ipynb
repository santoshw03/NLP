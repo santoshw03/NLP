{
 "cells": [
  {
   "cell_type": "code",
   "execution_count": 1,
   "id": "e2a9442b-e7b5-47f6-8d97-7ff35ead7e10",
   "metadata": {},
   "outputs": [],
   "source": [
    "import spacy"
   ]
  },
  {
   "cell_type": "code",
   "execution_count": 2,
   "id": "fd0c9241-06d1-4c86-95b6-e881c4fb27dd",
   "metadata": {},
   "outputs": [],
   "source": [
    "#nlp with blank pipeline:"
   ]
  },
  {
   "cell_type": "code",
   "execution_count": 3,
   "id": "0249b5f1-6852-4186-843b-7b998a48678b",
   "metadata": {},
   "outputs": [],
   "source": [
    "nlp = spacy.blank(\"en\")"
   ]
  },
  {
   "cell_type": "code",
   "execution_count": 4,
   "id": "19612928-f503-48f1-acc8-bad7be41fecc",
   "metadata": {},
   "outputs": [
    {
     "data": {
      "text/plain": [
       "[]"
      ]
     },
     "execution_count": 4,
     "metadata": {},
     "output_type": "execute_result"
    }
   ],
   "source": [
    "nlp.pipe_names"
   ]
  },
  {
   "cell_type": "code",
   "execution_count": 5,
   "id": "92c34cbc-97e2-4db6-9b51-2f26cc0543fa",
   "metadata": {},
   "outputs": [],
   "source": [
    "#nlp with a pre trained pipeline:\n",
    "nlp = spacy.load(\"en_core_web_sm\")"
   ]
  },
  {
   "cell_type": "code",
   "execution_count": 6,
   "id": "2107058e-b28a-4673-9c7a-8baa12355b33",
   "metadata": {},
   "outputs": [
    {
     "data": {
      "text/plain": [
       "['tok2vec', 'tagger', 'parser', 'attribute_ruler', 'lemmatizer', 'ner']"
      ]
     },
     "execution_count": 6,
     "metadata": {},
     "output_type": "execute_result"
    }
   ],
   "source": [
    "nlp.pipe_names"
   ]
  },
  {
   "cell_type": "code",
   "execution_count": 14,
   "id": "bb99fbfb-7d11-4553-94d8-af4cc637a83f",
   "metadata": {},
   "outputs": [],
   "source": [
    "doc = nlp(\"Captain America ate 100$ of samosa. Then he said I can do this all day\")"
   ]
  },
  {
   "cell_type": "code",
   "execution_count": null,
   "id": "bf7d6b13-d8ec-454c-96bf-24d26a0fec1d",
   "metadata": {},
   "outputs": [],
   "source": []
  },
  {
   "cell_type": "code",
   "execution_count": 15,
   "id": "dfdb5819-befc-44fe-b8f1-5f7841416ace",
   "metadata": {},
   "outputs": [],
   "source": [
    "#use of tagger pipe , we can classify the part of speech"
   ]
  },
  {
   "cell_type": "code",
   "execution_count": 11,
   "id": "2e2462aa-9cd9-43aa-aae7-71aed3f0c811",
   "metadata": {},
   "outputs": [
    {
     "name": "stdout",
     "output_type": "stream",
     "text": [
      "Captain  |  PROPN\n",
      "America  |  PROPN\n",
      "ate  |  VERB\n",
      "100  |  NUM\n",
      "$  |  NUM\n",
      "of  |  ADP\n",
      "samosa  |  PROPN\n",
      ".  |  PUNCT\n",
      "Then  |  ADV\n",
      "he  |  PRON\n",
      "said  |  VERB\n",
      "I  |  PRON\n",
      "can  |  AUX\n",
      "do  |  VERB\n",
      "this  |  PRON\n",
      "all  |  DET\n",
      "day  |  NOUN\n"
     ]
    }
   ],
   "source": [
    "for token in doc:\n",
    "    print(token,\" | \",token.pos_)"
   ]
  },
  {
   "cell_type": "code",
   "execution_count": null,
   "id": "87e475fa-2e57-4527-80be-b19ae124b49e",
   "metadata": {},
   "outputs": [],
   "source": []
  },
  {
   "cell_type": "code",
   "execution_count": 16,
   "id": "453b7910-b49f-4c32-9ef2-0566f8c277f8",
   "metadata": {},
   "outputs": [],
   "source": [
    "#use of lemmatizer , we can lemmatize the doc:"
   ]
  },
  {
   "cell_type": "code",
   "execution_count": 13,
   "id": "79e8c024-ee6a-42fb-844c-4ea6d2d164f6",
   "metadata": {},
   "outputs": [
    {
     "name": "stdout",
     "output_type": "stream",
     "text": [
      "Captain  |  Captain\n",
      "America  |  America\n",
      "ate  |  eat\n",
      "100  |  100\n",
      "$  |  $\n",
      "of  |  of\n",
      "samosa  |  samosa\n",
      ".  |  .\n",
      "Then  |  then\n",
      "he  |  he\n",
      "said  |  say\n",
      "I  |  I\n",
      "can  |  can\n",
      "do  |  do\n",
      "this  |  this\n",
      "all  |  all\n",
      "day  |  day\n"
     ]
    }
   ],
   "source": [
    "for token in doc:\n",
    "    print(token,\" | \",token.lemma_)"
   ]
  },
  {
   "cell_type": "code",
   "execution_count": null,
   "id": "3be2e871-7d61-451a-ac63-d3d4410fd536",
   "metadata": {},
   "outputs": [],
   "source": []
  },
  {
   "cell_type": "code",
   "execution_count": 19,
   "id": "f75dc193-8aa3-47d1-b3b5-ab6f5a25105c",
   "metadata": {},
   "outputs": [],
   "source": [
    "# use of ner , we can identify the entities from doc"
   ]
  },
  {
   "cell_type": "code",
   "execution_count": 28,
   "id": "5e8946d3-89d9-4194-9892-d29f93fc525e",
   "metadata": {},
   "outputs": [],
   "source": [
    "doc2 = nlp(\"Tesla Inc is going to accquire Twitter.com for $45 billion\")"
   ]
  },
  {
   "cell_type": "code",
   "execution_count": 29,
   "id": "f998c8c0-1208-4da3-8459-9b81409da29f",
   "metadata": {},
   "outputs": [
    {
     "name": "stdout",
     "output_type": "stream",
     "text": [
      "Tesla Inc  |  ORG\n",
      "Twitter.com  |  ORG\n",
      "$45 billion  |  MONEY\n"
     ]
    }
   ],
   "source": [
    "for ent in doc2.ents:\n",
    "    print(ent.text,\" | \",ent.label_)"
   ]
  },
  {
   "cell_type": "code",
   "execution_count": null,
   "id": "76ae377b-8e8c-437d-9136-e12aaf7da304",
   "metadata": {},
   "outputs": [],
   "source": []
  }
 ],
 "metadata": {
  "kernelspec": {
   "display_name": "Python 3 (ipykernel)",
   "language": "python",
   "name": "python3"
  },
  "language_info": {
   "codemirror_mode": {
    "name": "ipython",
    "version": 3
   },
   "file_extension": ".py",
   "mimetype": "text/x-python",
   "name": "python",
   "nbconvert_exporter": "python",
   "pygments_lexer": "ipython3",
   "version": "3.12.4"
  }
 },
 "nbformat": 4,
 "nbformat_minor": 5
}
